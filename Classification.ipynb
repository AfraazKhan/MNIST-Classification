{
  "nbformat": 4,
  "nbformat_minor": 0,
  "metadata": {
    "colab": {
      "name": "Classification.ipynb",
      "provenance": [],
      "collapsed_sections": []
    },
    "kernelspec": {
      "display_name": "Python 3",
      "name": "python3"
    },
    "language_info": {
      "name": "python"
    }
  },
  "cells": [
    {
      "cell_type": "code",
      "metadata": {
        "id": "un1mHds4gh6C"
      },
      "source": [
        "import numpy as np\n",
        "import pandas as pd\n",
        "import scipy as sp\n",
        "import warnings\n",
        "import matplotlib\n",
        "%matplotlib inline\n",
        "import matplotlib.pyplot as plt\n",
        "\n",
        "\n",
        "from sklearn.datasets import fetch_openml\n",
        "mnist = fetch_openml('mnist_784')\n",
        "X = mnist.data\n",
        "y = mnist.target"
      ],
      "execution_count": 1,
      "outputs": []
    },
    {
      "cell_type": "code",
      "metadata": {
        "colab": {
          "base_uri": "https://localhost:8080/"
        },
        "id": "ySmCfMdzlIjm",
        "outputId": "577e7dda-700d-418f-ebbe-b9cb29eb7631"
      },
      "source": [
        "print(X.shape)\n",
        "print(y.shape)"
      ],
      "execution_count": 2,
      "outputs": [
        {
          "output_type": "stream",
          "text": [
            "(70000, 784)\n",
            "(70000,)\n"
          ],
          "name": "stdout"
        }
      ]
    },
    {
      "cell_type": "code",
      "metadata": {
        "colab": {
          "base_uri": "https://localhost:8080/",
          "height": 265
        },
        "id": "PgAKWIyOldPg",
        "outputId": "019e5c92-a6da-4c06-830a-6749bbed9b94"
      },
      "source": [
        "some_digit = X[27553]\n",
        "some_digit_image = some_digit.reshape(28,28)\n",
        "plt.imshow(some_digit_image, matplotlib.cm.binary, interpolation= 'nearest')\n",
        "plt.show()"
      ],
      "execution_count": 3,
      "outputs": [
        {
          "output_type": "display_data",
          "data": {
            "image/png": "[encoded data removed]",
            "text/plain": [
              "<Figure size 432x288 with 1 Axes>"
            ]
          },
          "metadata": {
            "tags": [],
            "needs_background": "light"
          }
        }
      ]
    },
    {
      "cell_type": "code",
      "metadata": {
        "colab": {
          "base_uri": "https://localhost:8080/",
          "height": 36
        },
        "id": "WBlJ7jVFopq7",
        "outputId": "66cb55bb-14c1-4e24-cb54-f7c0b54d025c"
      },
      "source": [
        "y[27553]"
      ],
      "execution_count": 4,
      "outputs": [
        {
          "output_type": "execute_result",
          "data": {
            "application/vnd.google.colaboratory.intrinsic+json": {
              "type": "string"
            },
            "text/plain": [
              "'3'"
            ]
          },
          "metadata": {
            "tags": []
          },
          "execution_count": 4
        }
      ]
    },
    {
      "cell_type": "markdown",
      "metadata": {
        "id": "Hrhub8t9pTjZ"
      },
      "source": [
        "dividing trINING SET and test set"
      ]
    },
    {
      "cell_type": "code",
      "metadata": {
        "colab": {
          "base_uri": "https://localhost:8080/"
        },
        "id": "DHwrcldto4wN",
        "outputId": "6b75f2f6-21dc-4ea0-e7e5-911a9be33cd3"
      },
      "source": [
        "X_train, X_test, y_train, y_test = X[:60000], X[60000:],y[:60000], y[60000:]\n",
        "print(X_train.shape)\n",
        "print(X_test.shape)\n",
        "print(y_train.shape)\n",
        "print(y_test.shape)\n",
        "shuffle = np.random.permutation(60000)\n",
        "X_train, y_train = X_train[shuffle], y_train[shuffle] \n",
        "print(X_train.shape)\n",
        "print(y_train.shape)\n",
        "print(y_train)"
      ],
      "execution_count": 5,
      "outputs": [
        {
          "output_type": "stream",
          "text": [
            "(60000, 784)\n",
            "(10000, 784)\n",
            "(60000,)\n",
            "(10000,)\n",
            "(60000, 784)\n",
            "(60000,)\n",
            "['2' '7' '8' ... '6' '0' '8']\n"
          ],
          "name": "stdout"
        }
      ]
    },
    {
      "cell_type": "markdown",
      "metadata": {
        "id": "rGjrlhSqcn_w"
      },
      "source": [
        "**1 Train a Binary Classifier**\n",
        "We are going to train a binary classifier on a single number, say 3. We will use this to prove why accuracy may not be the best performance metric in this situation.\n",
        "\n",
        "The classifier model used will be Stochastic Gradient Descent. SGD has the advantage of being capable of handling very larget datasets efficiently (because it handles training instances independently; it's well suited for online learning)."
      ]
    },
    {
      "cell_type": "code",
      "metadata": {
        "colab": {
          "base_uri": "https://localhost:8080/"
        },
        "id": "UhqC1tApb5gV",
        "outputId": "02e26118-9370-4010-b28e-f9c2fdb70b63"
      },
      "source": [
        "y_train = y_train.astype(np.int8) #to convert y_train to int from string\n",
        "print(y_train)\n",
        "y_train_3 = (y_train==3)\n",
        "y_test_3 = (y_test==3)\n",
        "print(y_train_3)\n",
        "print(y_test_3)\n",
        "\n",
        "from sklearn.linear_model import SGDClassifier\n",
        "sgd_classifier = SGDClassifier(n_jobs = -1, random_state = 42)\n",
        "sgd_classifier.fit(X_train, y_train_3)"
      ],
      "execution_count": 6,
      "outputs": [
        {
          "output_type": "stream",
          "text": [
            "[2 7 8 ... 6 0 8]\n",
            "[False False False ... False False False]\n",
            "[False False False ... False False False]\n"
          ],
          "name": "stdout"
        },
        {
          "output_type": "execute_result",
          "data": {
            "text/plain": [
              "SGDClassifier(alpha=0.0001, average=False, class_weight=None,\n",
              "              early_stopping=False, epsilon=0.1, eta0=0.0, fit_intercept=True,\n",
              "              l1_ratio=0.15, learning_rate='optimal', loss='hinge',\n",
              "              max_iter=1000, n_iter_no_change=5, n_jobs=-1, penalty='l2',\n",
              "              power_t=0.5, random_state=42, shuffle=True, tol=0.001,\n",
              "              validation_fraction=0.1, verbose=0, warm_start=False)"
            ]
          },
          "metadata": {
            "tags": []
          },
          "execution_count": 6
        }
      ]
    },
    {
      "cell_type": "markdown",
      "metadata": {
        "id": "dTTpdNYGgX7e"
      },
      "source": [
        "prediction of single value ie 3 to check accuracy"
      ]
    },
    {
      "cell_type": "code",
      "metadata": {
        "colab": {
          "base_uri": "https://localhost:8080/"
        },
        "id": "g7pISLp3ggIW",
        "outputId": "90c9315d-5208-494e-8f63-d6b6164ca454"
      },
      "source": [
        "prediction = sgd_classifier.predict([some_digit])\n",
        "print(prediction)"
      ],
      "execution_count": 7,
      "outputs": [
        {
          "output_type": "stream",
          "text": [
            "[ True]\n"
          ],
          "name": "stdout"
        }
      ]
    },
    {
      "cell_type": "markdown",
      "metadata": {
        "id": "8xRvr-kBg_dN"
      },
      "source": [
        "prediction succeded classifier guessed perfectly\n",
        "now checking accuracy"
      ]
    },
    {
      "cell_type": "code",
      "metadata": {
        "id": "p4FOTH1ghLqI"
      },
      "source": [
        "from sklearn.model_selection import cross_val_score\n",
        "accuracy = cross_val_score(sgd_classifier, X_train, y_train_3, cv = 3, scoring = 'accuracy') "
      ],
      "execution_count": 8,
      "outputs": []
    },
    {
      "cell_type": "code",
      "metadata": {
        "colab": {
          "base_uri": "https://localhost:8080/"
        },
        "id": "CaTI3oCjjwNE",
        "outputId": "a548beac-724b-4654-91d9-812bc075a401"
      },
      "source": [
        "print(accuracy * 100)"
      ],
      "execution_count": 9,
      "outputs": [
        {
          "output_type": "stream",
          "text": [
            "[96.175 96.415 96.1  ]\n"
          ],
          "name": "stdout"
        }
      ]
    },
    {
      "cell_type": "markdown",
      "metadata": {
        "id": "h1qzE40Uk_kC"
      },
      "source": [
        "as the accuracy is over 94 % therefore checking the accuracy of the other half ie not 3"
      ]
    },
    {
      "cell_type": "code",
      "metadata": {
        "colab": {
          "base_uri": "https://localhost:8080/"
        },
        "id": "iukfWiGLlKED",
        "outputId": "504bc861-92dc-4452-a613-9851d0c8e992"
      },
      "source": [
        "from sklearn.base import BaseEstimator\n",
        "class Never3Classifier(BaseEstimator):\n",
        "  def fit(self, X, y=None):\n",
        "    pass\n",
        "  def predict(self, X):\n",
        "    return np.zeros((len(X), 1), dtype=bool)\n",
        "never_3 = Never3Classifier()\n",
        "accuracy = cross_val_score(never_3, X_train, y_train_3, cv =3, scoring = 'accuracy')\n",
        "print(accuracy)"
      ],
      "execution_count": 10,
      "outputs": [
        {
          "output_type": "stream",
          "text": [
            "[0.89885 0.89865 0.89595]\n"
          ],
          "name": "stdout"
        }
      ]
    },
    {
      "cell_type": "markdown",
      "metadata": {
        "id": "Lm4DyCxRmj-0"
      },
      "source": [
        "as the accuracy is still over 89% thus proves that accuracy is not the best metric. as the the dataset is pretty balanced how each digit is represented now using confusion matrix"
      ]
    },
    {
      "cell_type": "code",
      "metadata": {
        "id": "8H1tHMoSnjit"
      },
      "source": [
        "from sklearn.model_selection import cross_val_predict\n",
        "from sklearn.metrics import confusion_matrix\n",
        "\n",
        "y_train_pred = cross_val_predict(sgd_classifier, X_train, y_train_3, cv = 3,n_jobs = -1)\n",
        "confusion_matrix = confusion_matrix(y_train_3, y_train_pred)"
      ],
      "execution_count": 11,
      "outputs": []
    },
    {
      "cell_type": "code",
      "metadata": {
        "colab": {
          "base_uri": "https://localhost:8080/"
        },
        "id": "JriUQtVKpJ3H",
        "outputId": "6a406bfa-de48-440c-c386-da3cdd092cf2"
      },
      "source": [
        "print(confusion_matrix)"
      ],
      "execution_count": 12,
      "outputs": [
        {
          "output_type": "stream",
          "text": [
            "[[53178   691]\n",
            " [ 1571  4560]]\n"
          ],
          "name": "stdout"
        }
      ]
    },
    {
      "cell_type": "markdown",
      "metadata": {
        "id": "egekoFZxppNA"
      },
      "source": [
        "predicted not 3 and actualy not 3 = 52166    [tn]\n",
        "predicted to be 3 but actualy not 3 = 1703   [fp]\n",
        "predicted not 3 but actually  3 = 1080       [fn]\n",
        "predicted 3 but actualy 3 = 5051             [tp]\n",
        "\n"
      ]
    },
    {
      "cell_type": "markdown",
      "metadata": {
        "id": "kJXgsxwD63my"
      },
      "source": [
        "Checking precision and recall"
      ]
    },
    {
      "cell_type": "code",
      "metadata": {
        "colab": {
          "base_uri": "https://localhost:8080/"
        },
        "id": "MlEsyKKHq6F4",
        "outputId": "3ff30b01-445a-425b-f185-6b3ab1a34869"
      },
      "source": [
        "from sklearn.metrics import precision_score, recall_score\n",
        "precision = precision_score(y_train_3, y_train_pred)\n",
        "print(precision * 100)\n",
        "recall = recall_score(y_train_3, y_train_pred)\n",
        "print(recall * 100)"
      ],
      "execution_count": 13,
      "outputs": [
        {
          "output_type": "stream",
          "text": [
            "86.84060179013521\n",
            "74.37612135051378\n"
          ],
          "name": "stdout"
        }
      ]
    },
    {
      "cell_type": "markdown",
      "metadata": {
        "id": "w2T4WeRVvbuk"
      },
      "source": [
        "precision and recall by hand"
      ]
    },
    {
      "cell_type": "code",
      "metadata": {
        "colab": {
          "base_uri": "https://localhost:8080/"
        },
        "id": "IfWSNUjOvaz7",
        "outputId": "6be83218-5285-411c-acb0-f8e531925a5c"
      },
      "source": [
        "precision_byhand = 5051/((5051+1703))\n",
        "print(f'Precision by hand = {precision_byhand * 100}')\n",
        "recall_byhand = 5051/((5051+1080))\n",
        "print(f'Recall by hand = {recall_byhand * 100}')"
      ],
      "execution_count": 14,
      "outputs": [
        {
          "output_type": "stream",
          "text": [
            "Precision by hand = 74.78531240746224\n",
            "Recall by hand = 82.38460283803622\n"
          ],
          "name": "stdout"
        }
      ]
    },
    {
      "cell_type": "markdown",
      "metadata": {
        "id": "pRZKgvuKzqlS"
      },
      "source": [
        "f1 score"
      ]
    },
    {
      "cell_type": "code",
      "metadata": {
        "colab": {
          "base_uri": "https://localhost:8080/"
        },
        "id": "hyejJ48BztYX",
        "outputId": "56906f44-01ca-4456-f035-dc679f753636"
      },
      "source": [
        "from sklearn.metrics import f1_score\n",
        "f1_score = f1_score(y_train_3, y_train_pred)\n",
        "print(f1_score)"
      ],
      "execution_count": 15,
      "outputs": [
        {
          "output_type": "stream",
          "text": [
            "0.8012651555086979\n"
          ],
          "name": "stdout"
        }
      ]
    },
    {
      "cell_type": "markdown",
      "metadata": {
        "id": "wPzdXFzs8XRD"
      },
      "source": [
        "So how do we know which threshold to use for our classifier?\n",
        "First we need to find the decision scores of our classifier by calling for `decision function` instead of accuracy\n",
        "Then we plot Precision and Recall curves\n",
        "From that curve we can conclude a threshold score"
      ]
    },
    {
      "cell_type": "markdown",
      "metadata": {
        "id": "aM_71ErjMTAW"
      },
      "source": [
        "These are fundamental tools to evaluate and fine tune a classifier. Consider this example\n",
        "If our classifier claims that “these 10 images have an apple in it” but in reality only 8 images contain apples then the precision is 0.8 or 80%\n",
        "If we give 10 images with apples to our classifier but it recognizes only 7 and rejects 3 then its recall is 0.7 or 70%\n",
        "If we aim for higher precision we compromise on recall and vice versa\n",
        "Ideally we want both high precision and high recall. But we need to find a thresholdvalue so that there is a trade-off"
      ]
    },
    {
      "cell_type": "markdown",
      "metadata": {
        "id": "Otk2iKcg9CjY"
      },
      "source": [
        "#default threshold:"
      ]
    },
    {
      "cell_type": "code",
      "metadata": {
        "colab": {
          "base_uri": "https://localhost:8080/"
        },
        "id": "j4oNrW_39Kgx",
        "outputId": "aa79575b-0660-430b-9cda-f2225a8b1f49"
      },
      "source": [
        "y_scores = sgd_classifier.decision_function([some_digit])\n",
        "y_scores"
      ],
      "execution_count": 16,
      "outputs": [
        {
          "output_type": "execute_result",
          "data": {
            "text/plain": [
              "array([5514.23700298])"
            ]
          },
          "metadata": {
            "tags": []
          },
          "execution_count": 16
        }
      ]
    },
    {
      "cell_type": "code",
      "metadata": {
        "id": "p9f6ygsDAntl"
      },
      "source": [
        "y_scores = cross_val_predict(\n",
        "    sgd_classifier, \n",
        "    X_train, \n",
        "    y_train_3, \n",
        "    cv=3,\n",
        "    method=\"decision_function\")"
      ],
      "execution_count": 17,
      "outputs": []
    },
    {
      "cell_type": "code",
      "metadata": {
        "id": "83NUuyBGAill"
      },
      "source": [
        "# use results to build a precision/recall curve\n",
        "from sklearn.metrics import precision_recall_curve\n",
        "precision, recall, thresholds = precision_recall_curve(y_train_3, y_scores)"
      ],
      "execution_count": 18,
      "outputs": []
    },
    {
      "cell_type": "code",
      "metadata": {
        "colab": {
          "base_uri": "https://localhost:8080/",
          "height": 279
        },
        "id": "DtKxL_EuEInq",
        "outputId": "f36f38c8-b260-4ac4-ae8c-74a502bea54b"
      },
      "source": [
        "#plot precision, recall curve vs threshold to find the best threshold\n",
        "def precision_recall_vs_thresholds(precision, recall, thresholds):\n",
        "  plt.plot(thresholds, precision[:-1], \"b--\", label = \"precision\")\n",
        "  plt.plot(thresholds, recall[:-1], \"g--\", label = \"recall\")\n",
        "  plt.legend(loc = 'upper left')\n",
        "  plt.xlabel('Threshold')\n",
        "  plt.show()\n",
        "precision_recall_vs_thresholds(precision, recall, thresholds)"
      ],
      "execution_count": 19,
      "outputs": [
        {
          "output_type": "display_data",
          "data": {
            "image/png": "[encoded data removed]",
            "text/plain": [
              "<Figure size 432x288 with 1 Axes>"
            ]
          },
          "metadata": {
            "tags": [],
            "needs_background": "light"
          }
        }
      ]
    },
    {
      "cell_type": "markdown",
      "metadata": {
        "id": "ovx9ojiEHHlP"
      },
      "source": [
        "here we can see the threshold value is approx 2000\n",
        "now checking the the precision and recall curve to see at which point the precision increases and recall decreses also known as knee to find accuracy"
      ]
    },
    {
      "cell_type": "code",
      "metadata": {
        "colab": {
          "base_uri": "https://localhost:8080/",
          "height": 284
        },
        "id": "X0YZo1jeHivc",
        "outputId": "7b452de6-5ded-479e-ba52-93e1c8d3838a"
      },
      "source": [
        "def precision_vs_recall_curve(precision, recall):\n",
        "  plt.plot(recall, precision, \"b--\" ,linewidth = 2)\n",
        "  plt.xlabel('recall', fontsize = 16)\n",
        "  plt.ylabel('precision', fontsize = 16)\n",
        "  plt.show()\n",
        "precision_vs_recall_curve(precision, recall)"
      ],
      "execution_count": 20,
      "outputs": [
        {
          "output_type": "display_data",
          "data": {
            "image/png": "[encoded data removed]",
            "text/plain": [
              "<Figure size 432x288 with 1 Axes>"
            ]
          },
          "metadata": {
            "tags": [],
            "needs_background": "light"
          }
        }
      ]
    },
    {
      "cell_type": "markdown",
      "metadata": {
        "id": "n5x6LVGSIxxY"
      },
      "source": [
        "here we can see the recall falls over 80% thus increasing precision so lets aim for precision over 90%. considering 2000 as our opimal threshold"
      ]
    },
    {
      "cell_type": "code",
      "metadata": {
        "colab": {
          "base_uri": "https://localhost:8080/"
        },
        "id": "bBCtiIcsJjrr",
        "outputId": "86659c72-93c6-4b54-b72f-3c27ed93294f"
      },
      "source": [
        "y_train_pred_90 = (y_scores > 3000)\n",
        "print(y_train_pred_90.shape)\n",
        "print(y_train_pred_90)"
      ],
      "execution_count": 21,
      "outputs": [
        {
          "output_type": "stream",
          "text": [
            "(60000,)\n",
            "[False False False ... False False False]\n"
          ],
          "name": "stdout"
        }
      ]
    },
    {
      "cell_type": "code",
      "metadata": {
        "colab": {
          "base_uri": "https://localhost:8080/"
        },
        "id": "e9zq8jBfKVyO",
        "outputId": "9978ef3a-7193-4117-a017-6bd22bbd310e"
      },
      "source": [
        "pr = precision_score(y_train_3, y_train_pred_90)*100\n",
        "re = recall_score(y_train_3, y_train_pred_90)*100\n",
        "print(f'precision = {pr}')\n",
        "print(f'recall = {re}')"
      ],
      "execution_count": 22,
      "outputs": [
        {
          "output_type": "stream",
          "text": [
            "precision = 96.14015877361072\n",
            "recall = 57.282661882237804\n"
          ],
          "name": "stdout"
        }
      ]
    },
    {
      "cell_type": "markdown",
      "metadata": {
        "id": "Jy6ag3zJLD9k"
      },
      "source": [
        "So by using optimal threshold value ie 3000 the precision is over 90 % and\n",
        "\n",
        "recall is over 58% so This way we can tune our model as per needs. Its like a knob you turn."
      ]
    },
    {
      "cell_type": "markdown",
      "metadata": {
        "id": "eBEd-iMJuIqz"
      },
      "source": [
        "# ROC Curve"
      ]
    },
    {
      "cell_type": "markdown",
      "metadata": {
        "id": "Eq-tOsyfvqza"
      },
      "source": [
        "ROC curve is called Reciver Operating Charachteristic\n",
        "-ROC is Receiver operating characteristic\n",
        "-Sensitivity = Recall = True Positive Rate\n",
        "-Specificity = True Negative Rate\n",
        "-False Positive Rate = 1 — Specificity\n",
        "-The more the area under the curve the better our classifier"
      ]
    },
    {
      "cell_type": "markdown",
      "metadata": {
        "id": "P-QOPAfPwBJ6"
      },
      "source": [
        "ROC curve is plotted between tpr(TRUE POSITIVE RATE) and fpr(FALSE POSITIVE RATE)"
      ]
    },
    {
      "cell_type": "code",
      "metadata": {
        "colab": {
          "base_uri": "https://localhost:8080/",
          "height": 283
        },
        "id": "hZjFXrupv9ug",
        "outputId": "297a47c4-7758-49a4-bb1a-e26b4ba95a1c"
      },
      "source": [
        "from sklearn.metrics import roc_curve\n",
        "fpr, tpr, thresholds = roc_curve(y_train_3, y_scores)\n",
        "def plot_roc_curve(fpr, tpr, label=None):\n",
        "  plt.plot(fpr, tpr, linewidth=2, label=label)\n",
        "  plt.plot([0 , 1],[0, 1], 'k--')\n",
        "  plt.axis([0 ,1 ,0 ,1])\n",
        "  plt.xlabel('False Postive Rate')\n",
        "  plt.ylabel('True Postive Rate')\n",
        "\n",
        "plot_roc_curve(fpr, tpr)\n",
        "plt.show()"
      ],
      "execution_count": 23,
      "outputs": [
        {
          "output_type": "display_data",
          "data": {
            "image/png": "[encoded data removed]",
            "text/plain": [
              "<Figure size 432x288 with 1 Axes>"
            ]
          },
          "metadata": {
            "tags": [],
            "needs_background": "light"
          }
        }
      ]
    },
    {
      "cell_type": "markdown",
      "metadata": {
        "id": "GnAo10ky0LO1"
      },
      "source": [
        "Now calculating roc and auc SCORE that is ther area under the curve, the more are the more better is model, thus compare areA with other classififers or models and choose the best one"
      ]
    },
    {
      "cell_type": "code",
      "metadata": {
        "colab": {
          "base_uri": "https://localhost:8080/"
        },
        "id": "g2zZeg4h0cNT",
        "outputId": "d384b0a1-69c0-46db-92e1-e77b2aef568d"
      },
      "source": [
        "from sklearn.metrics import roc_auc_score\n",
        "roc_auc_score(y_train_3, y_scores) * 100"
      ],
      "execution_count": 24,
      "outputs": [
        {
          "output_type": "execute_result",
          "data": {
            "text/plain": [
              "95.78144408928576"
            ]
          },
          "metadata": {
            "tags": []
          },
          "execution_count": 24
        }
      ]
    },
    {
      "cell_type": "markdown",
      "metadata": {
        "id": "6W0dIvrQ--WN"
      },
      "source": [
        "#Random Forest\n",
        "now considering other classififer such as random forest classifier \n",
        "to compare the 2 methods for classification via ROC curve"
      ]
    },
    {
      "cell_type": "code",
      "metadata": {
        "colab": {
          "base_uri": "https://localhost:8080/"
        },
        "id": "nc-LVs5K_CG1",
        "outputId": "648a8e1f-ca63-4d5e-8133-38296d62aaf1"
      },
      "source": [
        "from sklearn.ensemble import RandomForestClassifier\n",
        "rforest_classifier = RandomForestClassifier(random_state=42)\n",
        "y_proba_forest = cross_val_predict(rforest_classifier, X_train, y_train_3, cv=3, method=\"predict_proba\") \n",
        "print(y_proba_forest[:,1])"
      ],
      "execution_count": 25,
      "outputs": [
        {
          "output_type": "stream",
          "text": [
            "[0.   0.   0.32 ... 0.08 0.01 0.03]\n"
          ],
          "name": "stdout"
        }
      ]
    },
    {
      "cell_type": "markdown",
      "metadata": {
        "id": "Lrmzxbo1BX_3"
      },
      "source": [
        "Random Forest Classifier gives us an array of probabilities. Rows are instances and columns are classes ( not-5 or 5 )"
      ]
    },
    {
      "cell_type": "code",
      "metadata": {
        "colab": {
          "base_uri": "https://localhost:8080/"
        },
        "id": "mhi3HnzaCVeZ",
        "outputId": "cc6368cb-4325-45ef-f2aa-6839254b4c6d"
      },
      "source": [
        "y_scores_forest = y_proba_forest[:, 1]\n",
        "print(y_scores_forest)\n",
        "#considering first row and first column as they contain probability of positive class"
      ],
      "execution_count": 26,
      "outputs": [
        {
          "output_type": "stream",
          "text": [
            "[0.   0.   0.32 ... 0.08 0.01 0.03]\n"
          ],
          "name": "stdout"
        }
      ]
    },
    {
      "cell_type": "markdown",
      "metadata": {
        "id": "k2KRbw2cBhR-"
      },
      "source": [
        "Now we plot the ROC curves for this classifier. All steps are similar\n"
      ]
    },
    {
      "cell_type": "code",
      "metadata": {
        "colab": {
          "base_uri": "https://localhost:8080/",
          "height": 283
        },
        "id": "6ot4loXWBsPG",
        "outputId": "71486a79-a20f-4eb5-f028-0094466ea5f1"
      },
      "source": [
        "fpr_forest, tpr_forest, thresholds_forest = roc_curve(y_train_3, y_scores_forest)\n",
        "plt.plot(fpr, tpr, \"b:\", label = 'SGD')\n",
        "plt.legend()\n",
        "plot_roc_curve(fpr_forest, tpr_forest, 'Random Forest')\n",
        "plt.legend()\n",
        "plt.show()"
      ],
      "execution_count": 27,
      "outputs": [
        {
          "output_type": "display_data",
          "data": {
            "image/png": "[encoded data removed]",
            "text/plain": [
              "<Figure size 432x288 with 1 Axes>"
            ]
          },
          "metadata": {
            "tags": [],
            "needs_background": "light"
          }
        }
      ]
    },
    {
      "cell_type": "markdown",
      "metadata": {
        "id": "j_Tp3GelNzWx"
      },
      "source": [
        "See how Random Forest is more stretched to the left covering more area?\n",
        "So it performs better than the Stochastic Gradient Descent classifier\n",
        "Let’s find the area under the curve"
      ]
    },
    {
      "cell_type": "code",
      "metadata": {
        "colab": {
          "base_uri": "https://localhost:8080/"
        },
        "id": "060mTHRmN1Jq",
        "outputId": "cee106d5-8ee3-418b-9cce-b90fc9d13bc5"
      },
      "source": [
        "rforest_roc_scores = roc_auc_score(y_train_3, y_scores_forest)\n",
        "print(rforest_roc_scores * 100)\n",
        "#FOR SGD it was 96 thus this is a better fit model for this dataset"
      ],
      "execution_count": 28,
      "outputs": [
        {
          "output_type": "stream",
          "text": [
            "99.58834966958739\n"
          ],
          "name": "stdout"
        }
      ]
    },
    {
      "cell_type": "markdown",
      "metadata": {
        "id": "jwAHQDBUPe7q"
      },
      "source": [
        "#MULTICLASS CLASSIFICATION"
      ]
    },
    {
      "cell_type": "markdown",
      "metadata": {
        "id": "B1kEygQCQQnJ"
      },
      "source": [
        "Up till now we did 5 or not-5 i.e. binary classification\n",
        "When there are more than two classes its a multi-class or multi-nomial classification\n",
        "In our case we have 0,1,2…..9 i.e. 10 digits = 10 classes in all\n",
        "Random Forest and Naive Bayes are capable to handle multi classes directly\n",
        "Support Vector machine(SVM) and Linear classifiers are binomial classifiers"
      ]
    },
    {
      "cell_type": "markdown",
      "metadata": {
        "id": "XjT5-T97S-QY"
      },
      "source": [
        "Now we can explore making a classifier that can classify multiple classes (Binary only distinguished between two classes). Algorithms such as Random Forest or Naive Bayes are capable of handling multiple classes, while some such as Support Vector Machine or Linear classifiers can only be binary classifiers.\n",
        "\n",
        "Most Binary classification algorithms scale better with OvA (One-versus-all) while some algorithms such as SVM scale better with OvO (One-versus-one) strategy. Scikit-Learn detects what strategy to use automatically."
      ]
    },
    {
      "cell_type": "code",
      "metadata": {
        "colab": {
          "base_uri": "https://localhost:8080/"
        },
        "id": "AD1c48CmQTKL",
        "outputId": "b7081eb8-d003-420a-b580-f697031b8dc7"
      },
      "source": [
        "sgd_classifier.fit(X_train, y_train) #training with X_train and y_Train instead of y_train_3\n",
        "prediction = sgd_classifier.predict([some_digit])\n",
        "print(prediction)"
      ],
      "execution_count": 29,
      "outputs": [
        {
          "output_type": "stream",
          "text": [
            "[3]\n"
          ],
          "name": "stdout"
        }
      ]
    },
    {
      "cell_type": "code",
      "metadata": {
        "colab": {
          "base_uri": "https://localhost:8080/"
        },
        "id": "xC093T3ZVD1T",
        "outputId": "12bf8e60-7a7d-4840-a675-92edde2e9172"
      },
      "source": [
        "some_digit_scores = sgd_classifier.decision_function([some_digit])\n",
        "highest_value_to_which_class = np.argmax([some_digit_scores])\n",
        "print(f\"Highest value belong to the class = {highest_value_to_which_class}\")"
      ],
      "execution_count": 30,
      "outputs": [
        {
          "output_type": "stream",
          "text": [
            "Highest value belong to the class = 3\n"
          ],
          "name": "stdout"
        }
      ]
    },
    {
      "cell_type": "markdown",
      "metadata": {
        "id": "XTIVvnmRWF5e"
      },
      "source": [
        "the SGD classifier classifies the 10 binary as 0 or 1.Thus it uses the OVA as the strategy.this can be confirmed by see the highest value belonging to class 3"
      ]
    },
    {
      "cell_type": "markdown",
      "metadata": {
        "id": "y5GGpDcoXX93"
      },
      "source": [
        "You can always force Scikit-Learn to use OvO or OvA by using the OneVsOneClassifier or OneVsRestClassifier"
      ]
    },
    {
      "cell_type": "code",
      "metadata": {
        "colab": {
          "base_uri": "https://localhost:8080/"
        },
        "id": "noDpMh4zaH7Q",
        "outputId": "198e56c6-1197-4022-b3f9-0079c3203c70"
      },
      "source": [
        "cross_val_score(sgd_classifier, X_train, y_train, cv=3, scoring='accuracy')"
      ],
      "execution_count": 31,
      "outputs": [
        {
          "output_type": "execute_result",
          "data": {
            "text/plain": [
              "array([0.8885 , 0.86955, 0.88005])"
            ]
          },
          "metadata": {
            "tags": []
          },
          "execution_count": 31
        }
      ]
    },
    {
      "cell_type": "markdown",
      "metadata": {
        "id": "wA_oBDXfbQeO"
      },
      "source": [
        "we can achive better accuracy by standard scaling"
      ]
    },
    {
      "cell_type": "code",
      "metadata": {
        "colab": {
          "base_uri": "https://localhost:8080/"
        },
        "id": "8EpBZpSUbW5n",
        "outputId": "ede8410b-b51e-4171-e7d7-c5b7446843a8"
      },
      "source": [
        "from sklearn.preprocessing import StandardScaler\n",
        "scaler = StandardScaler()\n",
        "X_train_scaled = scaler.fit_transform(X_train.astype(np.float64))\n",
        "cross_val_score(sgd_classifier, X_train_scaled, y_train, cv = 3, scoring='accuracy')"
      ],
      "execution_count": 32,
      "outputs": [
        {
          "output_type": "stream",
          "text": [
            "/usr/local/lib/python3.7/dist-packages/sklearn/linear_model/_stochastic_gradient.py:557: ConvergenceWarning: Maximum number of iteration reached before convergence. Consider increasing max_iter to improve the fit.\n",
            "  ConvergenceWarning)\n"
          ],
          "name": "stderr"
        },
        {
          "output_type": "execute_result",
          "data": {
            "text/plain": [
              "array([0.9029 , 0.90555, 0.89575])"
            ]
          },
          "metadata": {
            "tags": []
          },
          "execution_count": 32
        }
      ]
    },
    {
      "cell_type": "markdown",
      "metadata": {
        "id": "YRBBHFRvXu1W"
      },
      "source": [
        "#Using a RandomForestClassifier:"
      ]
    },
    {
      "cell_type": "code",
      "metadata": {
        "id": "pNSl7RuVWbns",
        "colab": {
          "base_uri": "https://localhost:8080/"
        },
        "outputId": "6f93916d-cb31-4796-feb2-a717992df22a"
      },
      "source": [
        "rforest_classifier.fit(X_train, y_train)\n",
        "r_forest_prediction = rforest_classifier.predict([some_digit])\n",
        "print(r_forest_prediction)"
      ],
      "execution_count": 33,
      "outputs": [
        {
          "output_type": "stream",
          "text": [
            "[3]\n"
          ],
          "name": "stdout"
        }
      ]
    },
    {
      "cell_type": "code",
      "metadata": {
        "colab": {
          "base_uri": "https://localhost:8080/"
        },
        "id": "9K0-vvg6cu2B",
        "outputId": "152003e2-19d3-4ee1-c72d-5e792a45d407"
      },
      "source": [
        "rforest_classifier.predict_proba([some_digit])"
      ],
      "execution_count": 34,
      "outputs": [
        {
          "output_type": "execute_result",
          "data": {
            "text/plain": [
              "array([[0.  , 0.  , 0.  , 0.96, 0.  , 0.  , 0.  , 0.  , 0.01, 0.03]])"
            ]
          },
          "metadata": {
            "tags": []
          },
          "execution_count": 34
        }
      ]
    },
    {
      "cell_type": "markdown",
      "metadata": {
        "id": "F0QwPEezzCWC"
      },
      "source": [
        "# Error Analysis\n",
        "Assuming our model is best fit but we want to look the ways to improve it. The best way to analize the model by Error Analysis. The first step is the confusion matrix."
      ]
    },
    {
      "cell_type": "code",
      "metadata": {
        "id": "U_0gBUKlzzNg"
      },
      "source": [
        "y_train_pred = cross_val_predict(sgd_classifier, X_train_scaled, y_train, cv = 3, n_jobs=-1)"
      ],
      "execution_count": 35,
      "outputs": []
    },
    {
      "cell_type": "code",
      "metadata": {
        "id": "NgPFVLtdSRq-",
        "colab": {
          "base_uri": "https://localhost:8080/"
        },
        "outputId": "8d5d014a-b223-4026-90ae-fbda30783c50"
      },
      "source": [
        "from sklearn.metrics import confusion_matrix\n",
        "xyz = confusion_matrix(y_train, y_train_pred)\n",
        "xyz"
      ],
      "execution_count": 36,
      "outputs": [
        {
          "output_type": "execute_result",
          "data": {
            "text/plain": [
              "array([[5596,    0,   17,    8,   10,   38,   35,    5,  213,    1],\n",
              "       [   0, 6426,   41,   20,    3,   41,    6,    6,  186,   13],\n",
              "       [  26,   28, 5256,   90,   74,   23,   58,   39,  355,    9],\n",
              "       [  32,   23,  108, 5242,    2,  214,   26,   41,  379,   64],\n",
              "       [  11,   17,   43,    7, 5247,    7,   37,   25,  289,  159],\n",
              "       [  25,   18,   29,  158,   50, 4483,   77,   14,  495,   72],\n",
              "       [  30,   18,   52,    2,   43,   87, 5560,    6,  120,    0],\n",
              "       [  21,   13,   52,   27,   48,   12,    3, 5694,  169,  226],\n",
              "       [  18,   62,   37,   94,    1,  123,   32,    9, 5428,   47],\n",
              "       [  24,   20,   28,   63,  123,   41,    1,  180,  317, 5152]])"
            ]
          },
          "metadata": {
            "tags": []
          },
          "execution_count": 36
        }
      ]
    },
    {
      "cell_type": "code",
      "metadata": {
        "id": "x_-4z5SXXVlZ",
        "colab": {
          "base_uri": "https://localhost:8080/"
        },
        "outputId": "7797266c-0cd4-42d4-f78b-836745e947b6"
      },
      "source": [
        "xyz.shape"
      ],
      "execution_count": 37,
      "outputs": [
        {
          "output_type": "execute_result",
          "data": {
            "text/plain": [
              "(10, 10)"
            ]
          },
          "metadata": {
            "tags": []
          },
          "execution_count": 37
        }
      ]
    },
    {
      "cell_type": "code",
      "metadata": {
        "id": "pjN1-OUcV75k",
        "colab": {
          "base_uri": "https://localhost:8080/",
          "height": 283
        },
        "outputId": "685df1af-9500-476f-a39d-25980a35f1e5"
      },
      "source": [
        "import seaborn as sns\n",
        "sns.heatmap(xyz, annot = True, fmt = 'd')"
      ],
      "execution_count": 38,
      "outputs": [
        {
          "output_type": "execute_result",
          "data": {
            "text/plain": [
              "<matplotlib.axes._subplots.AxesSubplot at 0x7f503d9cc690>"
            ]
          },
          "metadata": {
            "tags": []
          },
          "execution_count": 38
        },
        {
          "output_type": "display_data",
          "data": {
            "image/png": "[encoded data removed]",
            "text/plain": [
              "<Figure size 432x288 with 2 Axes>"
            ]
          },
          "metadata": {
            "tags": [],
            "needs_background": "light"
          }
        }
      ]
    },
    {
      "cell_type": "code",
      "metadata": {
        "id": "S2WigDvtY476",
        "colab": {
          "base_uri": "https://localhost:8080/",
          "height": 283
        },
        "outputId": "0a34d61a-b1aa-4848-e405-60ebcbdc94d0"
      },
      "source": [
        "row_sum = xyz.sum(axis = 1, keepdims= True)\n",
        "norm_xyz = xyz/row_sum\n",
        "np.fill_diagonal(norm_xyz, 0)\n",
        "sns.heatmap(norm_xyz, annot = True, fmt = '.3F') "
      ],
      "execution_count": 39,
      "outputs": [
        {
          "output_type": "execute_result",
          "data": {
            "text/plain": [
              "<matplotlib.axes._subplots.AxesSubplot at 0x7f503d7e9450>"
            ]
          },
          "metadata": {
            "tags": []
          },
          "execution_count": 39
        },
        {
          "output_type": "display_data",
          "data": {
            "image/png": "[encoded data removed]",
            "text/plain": [
              "<Figure size 432x288 with 2 Axes>"
            ]
          },
          "metadata": {
            "tags": [],
            "needs_background": "light"
          }
        }
      ]
    },
    {
      "cell_type": "markdown",
      "metadata": {
        "id": "koYbAH-YbE2A"
      },
      "source": [
        "Diagonal is pitch black as we wanted\n",
        "Brighter colors represent larger errors\n",
        "See columns 8 and 9? Lot of bright patches. This means many digits are mis-classified as 8 or 9\n",
        "See rows 8 and 9? Again brighter patches. This means 8 and 9 are often mis-classified!"
      ]
    },
    {
      "cell_type": "markdown",
      "metadata": {
        "id": "U00Gvw4-bKPv"
      },
      "source": [
        "There are many ways to correct this problem like image rotation, shifting, reducing noise which we cannot cover at the moment.\n",
        "Summary"
      ]
    },
    {
      "cell_type": "markdown",
      "metadata": {
        "id": "YXeDLy4Cctn-"
      },
      "source": [
        "#Multilabel Classification"
      ]
    },
    {
      "cell_type": "markdown",
      "metadata": {
        "id": "FRtuK3nLD-rH"
      },
      "source": [
        "In a classification such as face recognition, we want to make sure that we are able to represent our prediction in a binary output with multiple labels. For example, if our categories are \"Alice\", \"Bob\", and \"Charlie\", then a picture of Alice and Charlie should output [1,0,1]. Such classification that outputs multiple labels is called Multilabel Classification. We can use an example with the MNIST data to illustrate this. Let's use the K-Neighbors Classifier:"
      ]
    },
    {
      "cell_type": "code",
      "metadata": {
        "id": "1C6F-9Phc5Rz",
        "colab": {
          "base_uri": "https://localhost:8080/"
        },
        "outputId": "fa8ee82b-2efd-48ac-8171-1c2925d6e547"
      },
      "source": [
        "from sklearn.neighbors import KNeighborsClassifier\n",
        "y_train_large = (y_train >= 7)\n",
        "y_train_odds = (y_train % 2 == 1)\n",
        "y_multilabel = np.c_[y_train_large, y_train_odds]\n",
        "print(y_multilabel)\n",
        "knn_classifier = KNeighborsClassifier()\n",
        "knn_classifier.fit(X_train, y_multilabel)\n",
        "knn_classifier.predict([some_digit])"
      ],
      "execution_count": 40,
      "outputs": [
        {
          "output_type": "stream",
          "text": [
            "[[False False]\n",
            " [ True  True]\n",
            " [ True False]\n",
            " ...\n",
            " [False False]\n",
            " [False False]\n",
            " [ True False]]\n"
          ],
          "name": "stdout"
        },
        {
          "output_type": "execute_result",
          "data": {
            "text/plain": [
              "array([[False,  True]])"
            ]
          },
          "metadata": {
            "tags": []
          },
          "execution_count": 40
        }
      ]
    },
    {
      "cell_type": "markdown",
      "metadata": {
        "id": "MflJdvrRECkt"
      },
      "source": [
        "We defined two labels in the above example: \"Large\" digit (7,8,9) and \"Odd\" digit (1,3,5,7,9). Given that, we predicted that the digit 3 is False on greater than 7 and true on odd labels, and that's correct: 4 is large and odd.\n",
        "\n",
        "So in here multiple labels are greter than and odd this is an example of multilabel class\n",
        "\n",
        "There are many ways to evaluate multilabel classifier: we can measure the F1 score for each label then compute the average:"
      ]
    },
    {
      "cell_type": "markdown",
      "metadata": {
        "id": "2Tb437b5FOeF"
      },
      "source": [
        "We can always weigh the labels by how important they are (i.e., there is probably more odd digits than large digits, so odd digits should be weighed more) by setting average=\"weighted\""
      ]
    },
    {
      "cell_type": "markdown",
      "metadata": {
        "id": "I7MINQ5bXh_3"
      },
      "source": [
        "#Multioutput Classification\n",
        "The last type of classification task is the multioutput classification, where each label can have more than 2 classes of output. In this example, we will still use the MNIST dataset; however, we will insert random noise that will appear as different shades of grey on each pixel."
      ]
    },
    {
      "cell_type": "code",
      "metadata": {
        "id": "ZAg7Ukd1Xv9J"
      },
      "source": [
        "noise = np.random.randint(0, 100, (len(X_train), 784))\n",
        "X_train_mod = X_train + noise\n",
        "noise = np.random.randint(0, 100, (len(X_test), 784))\n",
        "X_test_mod = X_test + noise\n",
        "y_train_mod = X_train\n",
        "y_test_mod = X_test"
      ],
      "execution_count": 41,
      "outputs": []
    },
    {
      "cell_type": "markdown",
      "metadata": {
        "id": "bjE2UoHOaznz"
      },
      "source": [
        "We can \"peak\" at one of the test digits, one with the noise added and the target digit with no noise."
      ]
    },
    {
      "cell_type": "code",
      "metadata": {
        "colab": {
          "base_uri": "https://localhost:8080/",
          "height": 183
        },
        "id": "FgmCqB9ma0kR",
        "outputId": "738575ef-75c4-48a5-ca18-f2e5774c9b3f"
      },
      "source": [
        "some_index = 5500\n",
        "def plot_digit(some_digit):\n",
        "  some_digit_image = some_digit.reshape(28, 28)\n",
        "  plt.imshow(some_digit_image, cmap=matplotlib.cm.binary, interpolation='nearest')\n",
        "  plt.axis('off')\n",
        "plt.subplot(121);\n",
        "plot_digit(X_test_mod[some_index])\n",
        "plt.subplot(122);\n",
        "plot_digit(y_test_mod[some_index])"
      ],
      "execution_count": 42,
      "outputs": [
        {
          "output_type": "display_data",
          "data": {
            "image/png": "[encoded data removed]",
            "text/plain": [
              "<Figure size 432x288 with 2 Axes>"
            ]
          },
          "metadata": {
            "tags": [],
            "needs_background": "light"
          }
        }
      ]
    },
    {
      "cell_type": "markdown",
      "metadata": {
        "id": "ItrozOsOdI5U"
      },
      "source": [
        "when you do subplot(1,2,1); or subplot(121); , you would like to have one row and two columns worth of figures. The last number, p=1 means that you wish to place the plot in the left most column."
      ]
    },
    {
      "cell_type": "markdown",
      "metadata": {
        "id": "Vxbtui6jdm-J"
      },
      "source": [
        "Now we can train the noise \"4\" and see how it cleans up compared to the target image."
      ]
    },
    {
      "cell_type": "code",
      "metadata": {
        "colab": {
          "base_uri": "https://localhost:8080/"
        },
        "id": "8n-a5X9ee4dh",
        "outputId": "f34148e6-ad78-48fe-8815-64971584928e"
      },
      "source": [
        "%time knn_classifier.fit(X_train_mod, y_train_mod)\n",
        "clean_digit = knn_classifier.predict([X_test_mod[some_index]])"
      ],
      "execution_count": 43,
      "outputs": [
        {
          "output_type": "stream",
          "text": [
            "CPU times: user 14.1 s, sys: 97 ms, total: 14.2 s\n",
            "Wall time: 14.2 s\n"
          ],
          "name": "stdout"
        }
      ]
    },
    {
      "cell_type": "code",
      "metadata": {
        "colab": {
          "base_uri": "https://localhost:8080/",
          "height": 248
        },
        "id": "DlmgY8m7f0J4",
        "outputId": "a781a461-dc2e-4d93-fa01-b00ab13061da"
      },
      "source": [
        "plot_digit(clean_digit)\n",
        "plt.show()"
      ],
      "execution_count": 44,
      "outputs": [
        {
          "output_type": "display_data",
          "data": {
            "image/png": "[encoded data removed]",
            "text/plain": [
              "<Figure size 432x288 with 1 Axes>"
            ]
          },
          "metadata": {
            "tags": [],
            "needs_background": "light"
          }
        }
      ]
    },
    {
      "cell_type": "markdown",
      "metadata": {
        "id": "-KjTLTj-gAp0"
      },
      "source": [
        "While it is not quite the target digit, it is close enough to be able to make a prediction."
      ]
    }
  ]
}